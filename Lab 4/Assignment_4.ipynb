{
  "nbformat": 4,
  "nbformat_minor": 0,
  "metadata": {
    "colab": {
      "name": "Assignment-4.ipynb",
      "provenance": [],
      "collapsed_sections": []
    },
    "kernelspec": {
      "name": "python3",
      "display_name": "Python 3"
    },
    "accelerator": "GPU"
  },
  "cells": [
    {
      "cell_type": "code",
      "metadata": {
        "colab": {
          "base_uri": "https://localhost:8080/"
        },
        "id": "A8hrkX8wstTr",
        "outputId": "9f889a62-684c-40e5-ce83-83b42a9a399a"
      },
      "source": [
        "!pip install git+git://github.com/andreinechaev/nvcc4jupyter.git\n",
        "%load_ext nvcc_plugin"
      ],
      "execution_count": 36,
      "outputs": [
        {
          "output_type": "stream",
          "text": [
            "Collecting git+git://github.com/andreinechaev/nvcc4jupyter.git\n",
            "  Cloning git://github.com/andreinechaev/nvcc4jupyter.git to /tmp/pip-req-build-rqujap3w\n",
            "  Running command git clone -q git://github.com/andreinechaev/nvcc4jupyter.git /tmp/pip-req-build-rqujap3w\n",
            "Requirement already satisfied (use --upgrade to upgrade): NVCCPlugin==0.0.2 from git+git://github.com/andreinechaev/nvcc4jupyter.git in /usr/local/lib/python3.6/dist-packages\n",
            "Building wheels for collected packages: NVCCPlugin\n",
            "  Building wheel for NVCCPlugin (setup.py) ... \u001b[?25l\u001b[?25hdone\n",
            "  Created wheel for NVCCPlugin: filename=NVCCPlugin-0.0.2-cp36-none-any.whl size=4308 sha256=588252be39da6791c558637aab4a5888f718e24bd08f37ead89bc2f91a83a126\n",
            "  Stored in directory: /tmp/pip-ephem-wheel-cache-aog_9lij/wheels/10/c2/05/ca241da37bff77d60d31a9174f988109c61ba989e4d4650516\n",
            "Successfully built NVCCPlugin\n",
            "The nvcc_plugin extension is already loaded. To reload it, use:\n",
            "  %reload_ext nvcc_plugin\n"
          ],
          "name": "stdout"
        }
      ]
    },
    {
      "cell_type": "markdown",
      "metadata": {
        "id": "4Aggt_W6Eel6"
      },
      "source": [
        "**Q1**"
      ]
    },
    {
      "cell_type": "code",
      "metadata": {
        "colab": {
          "base_uri": "https://localhost:8080/"
        },
        "id": "rZxYvs_Az7Z8",
        "outputId": "be8e3271-04ab-4c0e-acca-84547e44ec10"
      },
      "source": [
        "%%cu\n",
        "#include<stdio.h>\n",
        "__managed__ int sum=0;\n",
        "__global__ void Array_sum(int *a,int *n)\n",
        "{\n",
        "    int tid=threadIdx.x;\n",
        "    if(tid<*n)\n",
        "      atomicAdd(&sum,a[tid]);\n",
        "}\n",
        "\n",
        "int main()\n",
        "{\n",
        "    int n=10,i;\n",
        "    //printf(\"Enter N:\");\n",
        "    //scanf(\"%d\",&n);\n",
        "    int a[n];\n",
        "    int *cuda_a,*cuda_n;\n",
        " \n",
        "    for(i=0;i<n;i++)\n",
        "    {\n",
        "        a[i]=rand()%100;\n",
        "        printf(\"%d \",a[i]);\n",
        "    }\n",
        "    printf(\"\\n\");\n",
        "\n",
        "    cudaMalloc((void**)&cuda_a,n*sizeof(int));\n",
        "    cudaMalloc((void**)&cuda_n,sizeof(int));\n",
        "    \n",
        "    cudaMemcpy(cuda_a,a,n*sizeof(int),cudaMemcpyHostToDevice);\n",
        "    cudaMemcpy(cuda_n,&n,sizeof(int),cudaMemcpyHostToDevice);\n",
        "    Array_sum <<<1,n>>>(cuda_a,cuda_n);\n",
        "    printf(\"Sum:%d\\n\",sum);\n",
        "    cudaFree(cuda_a);\n",
        "    cudaFree(cuda_n);\n",
        "    return 0;\n",
        "}"
      ],
      "execution_count": null,
      "outputs": [
        {
          "output_type": "stream",
          "text": [
            "83 86 77 15 93 35 86 92 49 21 \n",
            "Sum:637\n",
            "\n"
          ],
          "name": "stdout"
        }
      ]
    },
    {
      "cell_type": "markdown",
      "metadata": {
        "id": "OiYm4tw4ERCk"
      },
      "source": [
        "**Q2**"
      ]
    },
    {
      "cell_type": "code",
      "metadata": {
        "colab": {
          "base_uri": "https://localhost:8080/"
        },
        "id": "3I8AZ-SgsYnJ",
        "outputId": "0dcaaa6c-bd06-408a-ceb5-5d23a5677b7d"
      },
      "source": [
        "%%cu\n",
        "#include<stdio.h>\n",
        "\n",
        "__global__ void Array_add(int *a,int *b,int *c,int *n)\n",
        "{\n",
        "    unsigned short tid=threadIdx.x;\n",
        "    if(tid<*n)\n",
        "      c[tid]=a[tid]+b[tid];\n",
        "}\n",
        "\n",
        "int main()\n",
        "{\n",
        "    int n=5,i;\n",
        "    //printf(\"Enter N:\");\n",
        "    //scanf(\"%d\",&n);\n",
        "    int a[n],b[n],c[n];\n",
        "    int *cuda_a,*cuda_b,*cuda_c,*cuda_n;\n",
        " \n",
        "    for(i=0;i<n;i++)\n",
        "      a[i]=rand()%100;\n",
        "    for(i=0;i<n;i++)\n",
        "      b[i]=rand()%100;\n",
        "\n",
        "    cudaMalloc((void**)&cuda_a,n*sizeof(int));\n",
        "    cudaMalloc((void**)&cuda_b,n*sizeof(int));\n",
        "    cudaMalloc((void**)&cuda_c,n*sizeof(int));\n",
        "    cudaMalloc((void**)&cuda_n,sizeof(int));\n",
        "    \n",
        "    cudaMemcpy(cuda_a,a,n*sizeof(int),cudaMemcpyHostToDevice);\n",
        "    cudaMemcpy(cuda_b,b,n*sizeof(int),cudaMemcpyHostToDevice);\n",
        "    cudaMemcpy(cuda_n,&n,sizeof(int),cudaMemcpyHostToDevice);\n",
        "    Array_add <<<1,n>>>(cuda_a,cuda_b,cuda_c,cuda_n);\n",
        "    cudaMemcpy(c,cuda_c,n*sizeof(int),cudaMemcpyDeviceToHost);\n",
        "    for(i=0;i<n;i++)\n",
        "      printf(\"%d + %d = %d\\n\",a[i],b[i],c[i]);\n",
        "    cudaFree(cuda_a);\n",
        "    cudaFree(cuda_b);\n",
        "    cudaFree(cuda_c);\n",
        "    cudaFree(cuda_n);\n",
        "    return 0;\n",
        "}"
      ],
      "execution_count": null,
      "outputs": [
        {
          "output_type": "stream",
          "text": [
            "83 + 35 = 118\n",
            "86 + 86 = 172\n",
            "77 + 92 = 169\n",
            "15 + 49 = 64\n",
            "93 + 21 = 114\n",
            "\n"
          ],
          "name": "stdout"
        }
      ]
    },
    {
      "cell_type": "markdown",
      "metadata": {
        "id": "rIkIuhi2EZbb"
      },
      "source": [
        "**Q3**"
      ]
    },
    {
      "cell_type": "code",
      "metadata": {
        "id": "KViUBMHvTArF",
        "colab": {
          "base_uri": "https://localhost:8080/"
        },
        "outputId": "aad48419-119f-4dd3-fc90-cc3d14163505"
      },
      "source": [
        "%%cu\n",
        "#include<stdio.h>\n",
        "\n",
        "__global__ void Matrix_mult(int *a,int *b,int *c,int *m,int *n,int *p)\n",
        "{\n",
        "    int col=blockIdx.y*blockDim.y+threadIdx.y;\n",
        "    int row=blockIdx.x*blockDim.x+threadIdx.x;\n",
        "    int temp=0,i;\n",
        "\n",
        "    if(row<*m&&col<*p)\n",
        "    for(i=0;i<*n;i++)\n",
        "      temp+=a[row*(*n)+i]*b[i*(*p)+col];\n",
        "    c[row*(*p)+col]=temp;\n",
        "}\n",
        "\n",
        "int main()\n",
        "{\n",
        "    int m=3,n=2,p=2,i,j;\n",
        "    //printf(\"Enter N:\");\n",
        "    //scanf(\"%d\",&n);\n",
        "    int a[m*n],b[n*p],c[m*n];\n",
        "    int *cuda_a,*cuda_b,*cuda_c,*cuda_m,*cuda_n,*cuda_p;\n",
        "    printf(\"Matrix A:\\n\");\n",
        "    for(i=0;i<m;i++)\n",
        "    {\n",
        "        for(j=0;j<n;j++)\n",
        "        {\n",
        "            a[i*n+j]=rand()%100;\n",
        "            printf(\"%d \",a[i*n+j]);       \n",
        "        }\n",
        "        printf(\"\\n\");\n",
        "    }\n",
        "    printf(\"\\nMatrix B:\\n\");\n",
        "    for(i=0;i<n;i++)\n",
        "    {\n",
        "        for(j=0;j<p;j++)\n",
        "        {\n",
        "            b[i*p+j]=rand()%100;\n",
        "            printf(\"%d \",b[i*p+j]);       \n",
        "        }\n",
        "        printf(\"\\n\");\n",
        "    }\n",
        "    printf(\"\\n\");\n",
        "\n",
        "    cudaMalloc((void**)&cuda_a,m*n*sizeof(int));\n",
        "    cudaMalloc((void**)&cuda_b,n*p*sizeof(int));\n",
        "    cudaMalloc((void**)&cuda_c,m*p*sizeof(int));\n",
        "    cudaMalloc((void**)&cuda_m,sizeof(int));\n",
        "    cudaMalloc((void**)&cuda_n,sizeof(int));\n",
        "    cudaMalloc((void**)&cuda_p,sizeof(int));\n",
        "\n",
        "    cudaMemcpy(cuda_a,a,m*n*sizeof(int),cudaMemcpyHostToDevice);\n",
        "    cudaMemcpy(cuda_b,b,n*p*sizeof(int),cudaMemcpyHostToDevice);\n",
        "    cudaMemcpy(cuda_m,&m,sizeof(int),cudaMemcpyHostToDevice);\n",
        "    cudaMemcpy(cuda_n,&n,sizeof(int),cudaMemcpyHostToDevice);\n",
        "    cudaMemcpy(cuda_p,&p,sizeof(int),cudaMemcpyHostToDevice);\n",
        " \n",
        "    dim3 threadsPerBlock(m,p);\n",
        "    dim3 blocksPerGrid(1,1);\n",
        "        \n",
        "\n",
        "    Matrix_mult<<<blocksPerGrid,threadsPerBlock>>> (cuda_a,cuda_b,cuda_c,cuda_m,cuda_n,cuda_p);   \n",
        "\n",
        "    cudaMemcpy(c,cuda_c,m*p*sizeof(int),cudaMemcpyDeviceToHost);\n",
        "    printf(\"Result Matrix:\\n\");\n",
        "    for(i=0;i<m;i++)\n",
        "    {\n",
        "        for(j=0;j<p;j++)\n",
        "        {\n",
        "            printf(\"%d \",c[i*p+j]);       \n",
        "        }\n",
        "        printf(\"\\n\");\n",
        "    }\n",
        "    cudaFree(cuda_a);\n",
        "    cudaFree(cuda_b);\n",
        "    cudaFree(cuda_c);\n",
        "    cudaFree(cuda_m);\n",
        "    cudaFree(cuda_n);\n",
        "    cudaFree(cuda_p);\n",
        "    return 0;\n",
        "}"
      ],
      "execution_count": 52,
      "outputs": [
        {
          "output_type": "stream",
          "text": [
            "Matrix A:\n",
            "83 86 \n",
            "77 15 \n",
            "93 35 \n",
            "\n",
            "Matrix B:\n",
            "86 92 \n",
            "49 21 \n",
            "\n",
            "Result Matrix:\n",
            "11352 9442 \n",
            "7357 7399 \n",
            "9713 9291 \n",
            "\n"
          ],
          "name": "stdout"
        }
      ]
    },
    {
      "cell_type": "markdown",
      "metadata": {
        "id": "NoKvP6LDEnpc"
      },
      "source": [
        "**Q5**"
      ]
    },
    {
      "cell_type": "code",
      "metadata": {
        "colab": {
          "base_uri": "https://localhost:8080/"
        },
        "id": "CqBabZP_Hu8O",
        "outputId": "5853f76c-e794-47d7-9567-45bec497a6ef"
      },
      "source": [
        "%%cu\r\n",
        "#include<stdio.h>\r\n",
        "__managed__ int n,ne;\r\n",
        "__global__ void BFS(int *v,int *e,bool *f,bool *x,int *c)\r\n",
        "{\r\n",
        "    int tid=threadIdx.x;\r\n",
        "    if(tid<n)\r\n",
        "    {\r\n",
        "        if(f[tid]==true)\r\n",
        "        {\r\n",
        "            f[tid]=false;\r\n",
        "            x[tid]=true;\r\n",
        "            int start=v[tid];\r\n",
        "            int end=2*ne;\r\n",
        "            if(tid!=n-1)\r\n",
        "              end=v[tid+1];\r\n",
        "            for(int i=start;i<end;i++)\r\n",
        "            {\r\n",
        "                int temp=e[i];\r\n",
        "                if(x[temp]==false)\r\n",
        "                {\r\n",
        "                    c[temp]=c[tid]+1;\r\n",
        "                    f[temp]=true;\r\n",
        "                }\r\n",
        "            }\r\n",
        "        }\r\n",
        "    }\r\n",
        "}\r\n",
        "\r\n",
        "int main()\r\n",
        "{\r\n",
        "    int s=2;// source vertex\r\n",
        "    int i,j,k=0;\r\n",
        "    n=5;\r\n",
        "    ne=0;\r\n",
        "  //generate random graph\r\n",
        "  int gr[n][n];\r\n",
        "  for(i=0;i<n;i++)\r\n",
        "  {\r\n",
        "      for(j=0;j<n;j++)\r\n",
        "      {\r\n",
        "          if(i==j)\r\n",
        "          {\r\n",
        "              gr[i][j]=0;\r\n",
        "          }\r\n",
        "          else if(i>j)\r\n",
        "          {\r\n",
        "              gr[i][j]=gr[j][i];\r\n",
        "          }\r\n",
        "          else\r\n",
        "          {\r\n",
        "              gr[i][j]=rand()%2;\r\n",
        "          }\r\n",
        "          if(gr[i][j]!=0)\r\n",
        "            ne++;\r\n",
        "          printf(\"%d \",gr[i][j]);\r\n",
        "      }\r\n",
        "      printf(\"\\n\");\r\n",
        "  }\r\n",
        "    ne/=2;\r\n",
        "    //printf(\"Enter N:\");\r\n",
        "    //scanf(\"%d\",&n);\r\n",
        "    //int *v=malloc((int*)&v,n*sizeof(int));\r\n",
        "    //int *e=malloc((int*)&e,2*ne*sizeof(int));\r\n",
        "    int v[n],e[2*ne];\r\n",
        "    for(i=0;i<n;i++)\r\n",
        "    {\r\n",
        "        v[i]=k;\r\n",
        "        for(j=0;j<n;j++)\r\n",
        "        {\r\n",
        "            if(gr[i][j]!=0)\r\n",
        "            {\r\n",
        "                e[k]=j;\r\n",
        "                k++;\r\n",
        "            }\r\n",
        "        }\r\n",
        "    }\r\n",
        "    //bool *f=malloc((bool*)&f,n*sizeof(bool));\r\n",
        "    //bool *x=malloc((bool*)&x,n*sizeof(bool));\r\n",
        "    //int *c=malloc((int*)&c,n*sizeof(int));\r\n",
        "    bool f[n],x[n];\r\n",
        "    int c[n];\r\n",
        "    for(i=0;i<n;i++)\r\n",
        "    {\r\n",
        "        f[i]=x[i]=false;\r\n",
        "        c[i]=INT_MAX;\r\n",
        "    }\r\n",
        "    c[s]=0;\r\n",
        "    f[s]=true;\r\n",
        "    int *cuda_v,*cuda_e,*cuda_c;\r\n",
        "    bool *cuda_f,*cuda_x;\r\n",
        "    cudaMalloc((void**)&cuda_v,n*sizeof(int));\r\n",
        "    cudaMalloc((void**)&cuda_e,2*ne*sizeof(int));\r\n",
        "    cudaMalloc((void**)&cuda_f,n*sizeof(bool));\r\n",
        "    cudaMalloc((void**)&cuda_x,n*sizeof(bool));\r\n",
        "    cudaMalloc((void**)&cuda_c,n*sizeof(int));\r\n",
        "    \r\n",
        "\r\n",
        "    cudaMemcpy(cuda_v,v,n*sizeof(int),cudaMemcpyHostToDevice);\r\n",
        "    cudaMemcpy(cuda_e,e,2*ne*sizeof(int),cudaMemcpyHostToDevice);\r\n",
        "    cudaMemcpy(cuda_f,f,n*sizeof(bool),cudaMemcpyHostToDevice);\r\n",
        "    cudaMemcpy(cuda_x,x,n*sizeof(bool),cudaMemcpyHostToDevice);\r\n",
        "    cudaMemcpy(cuda_c,c,n*sizeof(int),cudaMemcpyHostToDevice);\r\n",
        "    while(1)\r\n",
        "    {\r\n",
        "        int flag=0;\r\n",
        "        BFS <<<1,n>>>(cuda_v,cuda_e,cuda_f,cuda_x,cuda_c);\r\n",
        "        cudaDeviceSynchronize();\r\n",
        "        cudaMemcpy(f,cuda_f,n*sizeof(bool),cudaMemcpyDeviceToHost);\r\n",
        "        for(i=0;i<n;i++)\r\n",
        "        {\r\n",
        "            if(f[i]==true)\r\n",
        "            {\r\n",
        "                flag=1;\r\n",
        "                break;\r\n",
        "            }\r\n",
        "        }\r\n",
        "        if(flag==0)\r\n",
        "          break;\r\n",
        "    }\r\n",
        "    cudaMemcpy(c,cuda_c,n*sizeof(int),cudaMemcpyDeviceToHost);\r\n",
        "    printf(\"\\nDistance from vertex %d:\\n\",s);\r\n",
        "    for(i=0;i<n;i++)\r\n",
        "        printf(\"%d \",c[i]);\r\n",
        "    cudaFree(cuda_v);\r\n",
        "    cudaFree(cuda_e);\r\n",
        "    cudaFree(cuda_f);\r\n",
        "    cudaFree(cuda_x);\r\n",
        "    cudaFree(cuda_c);\r\n",
        "    return 0;\r\n",
        "}"
      ],
      "execution_count": null,
      "outputs": [
        {
          "output_type": "stream",
          "text": [
            "0 1 0 1 1 \n",
            "1 0 1 1 0 \n",
            "0 1 0 0 1 \n",
            "1 1 0 0 1 \n",
            "1 0 1 1 0 \n",
            "\n",
            "Distance from vertex 2:\n",
            "2 1 0 2 1 \n"
          ],
          "name": "stdout"
        }
      ]
    },
    {
      "cell_type": "markdown",
      "metadata": {
        "id": "iopHRBvnEt2h"
      },
      "source": [
        "**Q6**"
      ]
    },
    {
      "cell_type": "code",
      "metadata": {
        "colab": {
          "base_uri": "https://localhost:8080/"
        },
        "id": "1ZnLT1ORq-M6",
        "outputId": "47e1a19b-07cc-4fa5-cfba-f8635a415692"
      },
      "source": [
        "%%cu\r\n",
        "#include<stdio.h>\r\n",
        "__managed__ int n,ne;\r\n",
        "__global__ void SSSP(int *v,int *e,int *w,bool *m,int *u,int *c)\r\n",
        "{\r\n",
        "    int tid=threadIdx.x;\r\n",
        "    if(tid<n)\r\n",
        "    {\r\n",
        "        if(m[tid]==true)\r\n",
        "        {\r\n",
        "            m[tid]=false;\r\n",
        "            int start=v[tid];\r\n",
        "            int end=2*ne;\r\n",
        "            if(tid!=n-1)\r\n",
        "              end=v[tid+1];\r\n",
        "            for(int i=start;i<end;i++)\r\n",
        "            {\r\n",
        "                int temp=e[i];\r\n",
        "                if(u[temp]>c[tid]+w[temp])\r\n",
        "                {\r\n",
        "                    u[temp]=c[tid]+w[temp];\r\n",
        "                }\r\n",
        "            }\r\n",
        "        }\r\n",
        "    }\r\n",
        "}\r\n",
        "\r\n",
        "__global__ void SSSP_Kernel(int *v,int *e,int *w,bool *m,int *u,int *c)\r\n",
        "{\r\n",
        "    int tid=threadIdx.x;\r\n",
        "    if(tid<n)\r\n",
        "    {\r\n",
        "        if(c[tid]>u[tid])\r\n",
        "        {\r\n",
        "            c[tid]=u[tid];\r\n",
        "            m[tid]=true;\r\n",
        "        }\r\n",
        "        u[tid]=c[tid];\r\n",
        "    }\r\n",
        "}\r\n",
        "\r\n",
        "int main()\r\n",
        "{\r\n",
        "    int s=2;// source vertex\r\n",
        "    int i,j,k=0;\r\n",
        "    n=5;\r\n",
        "    ne=0;\r\n",
        "  //generate random graph\r\n",
        "  int gr[n][n];\r\n",
        "  for(i=0;i<n;i++)\r\n",
        "  {\r\n",
        "      for(j=0;j<n;j++)\r\n",
        "      {\r\n",
        "          if(i==j)\r\n",
        "          {\r\n",
        "              gr[i][j]=0;\r\n",
        "          }\r\n",
        "          else if(i>j)\r\n",
        "          {\r\n",
        "              gr[i][j]=gr[j][i];\r\n",
        "          }\r\n",
        "          else\r\n",
        "          {\r\n",
        "              gr[i][j]=rand()%100;\r\n",
        "          }\r\n",
        "          if(gr[i][j]!=0)\r\n",
        "            ne++;\r\n",
        "          printf(\"%d \",gr[i][j]);\r\n",
        "      }\r\n",
        "      printf(\"\\n\");\r\n",
        "  }\r\n",
        "    ne/=2;\r\n",
        "    //printf(\"Enter N:\");\r\n",
        "    //scanf(\"%d\",&n);\r\n",
        "    //int *v=malloc((int*)&v,n*sizeof(int));\r\n",
        "    //int *e=malloc((int*)&e,2*ne*sizeof(int));\r\n",
        "    int v[n],e[2*ne],w[2*ne];\r\n",
        "    for(i=0;i<n;i++)\r\n",
        "    {\r\n",
        "        v[i]=k;\r\n",
        "        for(j=0;j<n;j++)\r\n",
        "        {\r\n",
        "            if(gr[i][j]!=0)\r\n",
        "            {\r\n",
        "                e[k]=j;\r\n",
        "                w[k]=gr[i][j];\r\n",
        "                k++;\r\n",
        "            }\r\n",
        "        }\r\n",
        "    }\r\n",
        "    //bool *f=malloc((bool*)&f,n*sizeof(bool));\r\n",
        "    //bool *x=malloc((bool*)&x,n*sizeof(bool));\r\n",
        "    //int *c=malloc((int*)&c,n*sizeof(int));\r\n",
        "    bool m[n];\r\n",
        "    int c[n],u[n];\r\n",
        "    for(i=0;i<n;i++)\r\n",
        "    {\r\n",
        "        m[i]=false;\r\n",
        "        c[i]=u[i]=INT_MAX;\r\n",
        "    }\r\n",
        "    c[s]=0;\r\n",
        "    u[s]=0;\r\n",
        "    m[s]=true;\r\n",
        "    int *cuda_v,*cuda_e,*cuda_c,*cuda_u,*cuda_w;\r\n",
        "    bool *cuda_m;\r\n",
        "    cudaMalloc((void**)&cuda_v,n*sizeof(int));\r\n",
        "    cudaMalloc((void**)&cuda_e,2*ne*sizeof(int));\r\n",
        "    cudaMalloc((void**)&cuda_w,2*ne*sizeof(int));\r\n",
        "    cudaMalloc((void**)&cuda_m,n*sizeof(bool));\r\n",
        "    cudaMalloc((void**)&cuda_u,n*sizeof(int));\r\n",
        "    cudaMalloc((void**)&cuda_c,n*sizeof(int));\r\n",
        "    \r\n",
        "\r\n",
        "    cudaMemcpy(cuda_v,v,n*sizeof(int),cudaMemcpyHostToDevice);\r\n",
        "    cudaMemcpy(cuda_e,e,2*ne*sizeof(int),cudaMemcpyHostToDevice);\r\n",
        "    cudaMemcpy(cuda_w,w,2*ne*sizeof(int),cudaMemcpyHostToDevice);\r\n",
        "    cudaMemcpy(cuda_m,m,n*sizeof(bool),cudaMemcpyHostToDevice);\r\n",
        "    cudaMemcpy(cuda_u,u,n*sizeof(int),cudaMemcpyHostToDevice);\r\n",
        "    cudaMemcpy(cuda_c,c,n*sizeof(int),cudaMemcpyHostToDevice);\r\n",
        "    while(1)\r\n",
        "    {\r\n",
        "        int flag=0;\r\n",
        "        SSSP <<<1,n>>>(cuda_v,cuda_e,cuda_w,cuda_m,cuda_u,cuda_c);\r\n",
        "        cudaDeviceSynchronize();\r\n",
        "        SSSP_Kernel <<<1,n>>>(cuda_v,cuda_e,cuda_w,cuda_m,cuda_u,cuda_c);\r\n",
        "        cudaDeviceSynchronize();\r\n",
        "        cudaMemcpy(m,cuda_m,n*sizeof(bool),cudaMemcpyDeviceToHost);\r\n",
        "        for(i=0;i<n;i++)\r\n",
        "        {\r\n",
        "            if(m[i]==true)\r\n",
        "            {\r\n",
        "                flag=1;\r\n",
        "                break;\r\n",
        "            }\r\n",
        "        }\r\n",
        "        if(flag==0)\r\n",
        "          break;\r\n",
        "    }\r\n",
        "    cudaMemcpy(c,cuda_c,n*sizeof(int),cudaMemcpyDeviceToHost);\r\n",
        "    printf(\"\\nDistance from vertex %d:\\n\",s);\r\n",
        "    for(i=0;i<n;i++)\r\n",
        "        printf(\"%d \",c[i]);\r\n",
        "    cudaFree(cuda_v);\r\n",
        "    cudaFree(cuda_e);\r\n",
        "    cudaFree(cuda_w);\r\n",
        "    cudaFree(cuda_m);\r\n",
        "    cudaFree(cuda_u);\r\n",
        "    cudaFree(cuda_c);\r\n",
        "    return 0;\r\n",
        "}"
      ],
      "execution_count": null,
      "outputs": [
        {
          "output_type": "stream",
          "text": [
            "0 83 86 77 15 \n",
            "83 0 93 35 86 \n",
            "86 93 0 92 49 \n",
            "77 35 92 0 21 \n",
            "15 86 49 21 0 \n",
            "\n",
            "Distance from vertex 2:\n",
            "83 86 0 15 83 \n"
          ],
          "name": "stdout"
        }
      ]
    },
    {
      "cell_type": "markdown",
      "metadata": {
        "id": "A7wxx4LbExpT"
      },
      "source": [
        "**Q7**"
      ]
    },
    {
      "cell_type": "code",
      "metadata": {
        "colab": {
          "base_uri": "https://localhost:8080/"
        },
        "id": "MgynG6bds4DP",
        "outputId": "fbfb5871-0052-4e98-8bbe-6b2ecc2c5777"
      },
      "source": [
        "%%cu\n",
        "#include<thrust/host_vector.h>\n",
        "#include<thrust/device_vector.h>\n",
        "#include<thrust/generate.h>\n",
        "#include<thrust/sort.h>\n",
        "#include<thrust/copy.h>\n",
        "#include<cstdlib>\n",
        "\n",
        "int main()\n",
        "{\n",
        "    thrust::host_vector<int> a(10);\n",
        "    thrust::generate(a.begin(),a.end(),rand);\n",
        "    thrust::device_vector<int> device_a=a;\n",
        "    thrust::sort(device_a.begin(),device_a.end());\n",
        "    thrust::copy(device_a.begin(),device_a.end(),a.begin());\n",
        "    for(auto x:a)\n",
        "      printf(\"%d \",x);\n",
        "    return 0;\n",
        "}"
      ],
      "execution_count": null,
      "outputs": [
        {
          "output_type": "stream",
          "text": [
            "424238335 596516649 719885386 846930886 1189641421 1649760492 1681692777 1714636915 1804289383 1957747793 \n"
          ],
          "name": "stdout"
        }
      ]
    },
    {
      "cell_type": "code",
      "metadata": {
        "id": "wPJmzc_xCnBa"
      },
      "source": [
        ""
      ],
      "execution_count": null,
      "outputs": []
    }
  ]
}